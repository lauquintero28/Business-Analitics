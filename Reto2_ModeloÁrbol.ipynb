{
  "nbformat": 4,
  "nbformat_minor": 0,
  "metadata": {
    "colab": {
      "provenance": [],
      "authorship_tag": "ABX9TyMV+c94WZmFiZALxd4wdAl2",
      "include_colab_link": true
    },
    "kernelspec": {
      "name": "python3",
      "display_name": "Python 3"
    },
    "language_info": {
      "name": "python"
    }
  },
  "cells": [
    {
      "cell_type": "markdown",
      "metadata": {
        "id": "view-in-github",
        "colab_type": "text"
      },
      "source": [
        "<a href=\"https://colab.research.google.com/github/lauquintero28/Business-Analitics/blob/main/Reto2_Modelo%C3%81rbol.ipynb\" target=\"_parent\"><img src=\"https://colab.research.google.com/assets/colab-badge.svg\" alt=\"Open In Colab\"/></a>"
      ]
    },
    {
      "cell_type": "markdown",
      "source": [
        "##**0. Cargar las librerías.**"
      ],
      "metadata": {
        "id": "HWEWOw8Dtfgx"
      }
    },
    {
      "cell_type": "code",
      "execution_count": null,
      "metadata": {
        "colab": {
          "base_uri": "https://localhost:8080/"
        },
        "id": "dYHrSSrZfb7j",
        "outputId": "483bc9dd-6f6d-41a8-fab0-4374e10775cc"
      },
      "outputs": [
        {
          "output_type": "stream",
          "name": "stdout",
          "text": [
            "Mounted at /content/drive\n"
          ]
        }
      ],
      "source": [
        "import numpy as np #Funciones matemáticas\n",
        "import pandas as pd #Conexión con Archivos de Excel\n",
        "import matplotlib.pyplot as plt #Gráficas\n",
        "\n",
        "#Se trae el modelo\n",
        "from sklearn.tree import DecisionTreeClassifier #Arbol de Decisión - Prestamo Interbibliotecario\n",
        "\n",
        "#Para llamar los archivos del Drive - Sin tener que subirlos\n",
        "from google.colab import drive #Archivos\n",
        "drive.mount('/content/drive')"
      ]
    },
    {
      "cell_type": "markdown",
      "source": [
        "##**1. Cargar la base de datos del drive.**"
      ],
      "metadata": {
        "id": "rIjLPu6jtxU-"
      }
    },
    {
      "cell_type": "code",
      "source": [
        "nxl='/content/drive/MyDrive/EAFIT/TERCER SEMESTRE/Analítica de Negocios/2. BD2_In_App_Pur_Int.xlsx'\n",
        "XDB=pd.read_excel(nxl,sheet_name=0)\n",
        "XDB.dropna() #Evitar celdas vacias Not at Number\n",
        "XDB.head()\n",
        "\n",
        "#Creamos el DataMart\n",
        "XD=XDB[['Age','Income','Years','Hours']] #Variables Entrada\n",
        "XD.head()\n",
        "XD=np.array(XD) #Convierto la tabla en números - Variables de Entrada\n",
        "yd=XDB[['Buy']] #Valor Deseado - Aprenda el Modelo\n",
        "yd=np.array(yd) #Variable de Salida - Convierto en Tabla"
      ],
      "metadata": {
        "id": "cTljpSLOtx1O"
      },
      "execution_count": null,
      "outputs": []
    },
    {
      "cell_type": "markdown",
      "source": [
        "#**2. Se procede con la construcción del Modelo de Árbol.**"
      ],
      "metadata": {
        "id": "yh8_a1Y4u9KM"
      }
    },
    {
      "cell_type": "code",
      "source": [
        "mar=DecisionTreeClassifier(criterion=\"gini\",max_depth=4)\n",
        "mar.fit(XD,yd)\n",
        "ydp=mar.predict(XD) # Estos valores de pronóstico sirven para evaluar modelo\n",
        "\n",
        "#Evaluamos el modelo\n",
        "from sklearn.metrics import confusion_matrix\n",
        "cm=confusion_matrix(yd,ydp)\n",
        "VN=cm[0,0]; FP=cm[0,1]; FN=cm[1,0]; VP=cm[1,1]\n",
        "\n",
        "EX=(VP+VN)/(VP+VN+FP+FN)\n",
        "Se=VP/(VP+FN); Sp=VN/(VN+FP)\n",
        "\n",
        "print(\"Exactitud: \",EX)\n",
        "print(\"Sensibilidad: \",Se)\n",
        "print(\"Especificidad: \",Sp)"
      ],
      "metadata": {
        "colab": {
          "base_uri": "https://localhost:8080/"
        },
        "id": "7UWGbhKbvAhx",
        "outputId": "b37932e0-99c5-491d-a288-e23b00b55bd0"
      },
      "execution_count": null,
      "outputs": [
        {
          "output_type": "stream",
          "name": "stdout",
          "text": [
            "Exactitud:  0.8475\n",
            "Sensibilidad:  0.9478672985781991\n",
            "Especificidad:  0.7354497354497355\n"
          ]
        }
      ]
    },
    {
      "cell_type": "markdown",
      "source": [
        "#**3. Se procede con la visualización del Árbol.**\n"
      ],
      "metadata": {
        "id": "Pa5_CkzwvwIj"
      }
    },
    {
      "cell_type": "code",
      "source": [
        "from sklearn.tree import export_graphviz   # Estructura del Árbol\n",
        "from pydotplus import graph_from_dot_data  # Que datos le voy a colocar al árbol\n",
        "\n",
        "vs=[\"Age\",\"Income\",\"Years\",\"Hours\"] # Estos nombres aparecen en el árbol\n",
        "\n",
        "dot_data=export_graphviz(mar,feature_names=vs) # Asegurar nombres del gráfico\n",
        "graph=graph_from_dot_data(dot_data) # Se hace el gráfico del árbol\n",
        "graph.write_png(\"arbol.png\") # Se crea la imagen"
      ],
      "metadata": {
        "colab": {
          "base_uri": "https://localhost:8080/"
        },
        "id": "lQhPvvkPvwuY",
        "outputId": "4ba7b367-e60c-40d2-9963-a0c1a3f2cb5e"
      },
      "execution_count": null,
      "outputs": [
        {
          "output_type": "execute_result",
          "data": {
            "text/plain": [
              "True"
            ]
          },
          "metadata": {},
          "execution_count": 5
        }
      ]
    },
    {
      "cell_type": "markdown",
      "source": [
        "#**4. Calculamos las probabilidades de los compradores nuevos.**"
      ],
      "metadata": {
        "id": "uKPB8nHxv1y_"
      }
    },
    {
      "cell_type": "code",
      "source": [
        "XDB2=pd.read_excel(nxl,sheet_name=1)\n",
        "XDB2=XDB2[[\"Age\",\"Income\",\"Years\",\"Hours\"]]\n",
        "XDB2=XDB2.dropna()\n",
        "\n",
        "XD2=np.array(XDB2)\n",
        "ydp2=mar.predict(XD2)\n",
        "XDB2[\"Buy\"]=ydp2\n",
        "XDB2.head()\n",
        "\n",
        "XDB2.to_excel(\"Compradores.xlsx\")\n",
        "\n",
        "# Para contar los datos\n",
        "np.sum(ydp2)\n",
        "len(ydp2)-np.sum(ydp2)"
      ],
      "metadata": {
        "colab": {
          "base_uri": "https://localhost:8080/"
        },
        "id": "vchtoxpAv7ew",
        "outputId": "6b698f38-aa4a-4fe1-bfee-75e99a3e517a"
      },
      "execution_count": null,
      "outputs": [
        {
          "output_type": "execute_result",
          "data": {
            "text/plain": [
              "1"
            ]
          },
          "metadata": {},
          "execution_count": 6
        }
      ]
    },
    {
      "cell_type": "markdown",
      "source": [
        "#**Análisis de resultados.**"
      ],
      "metadata": {
        "id": "2RLb29ASwB0c"
      }
    },
    {
      "cell_type": "markdown",
      "source": [
        "En la base de datos se registran un total de **400** jugadores, de los cuales **211** **(53%)** son compradores potenciales y **189** **(47%)** no realizan compras dentro de la aplicación. El modelo de árbol de decisión mostró un índice de **exactitud** de aproximadamente **85%**, indicando un buen rendimiento en la clasificación general. Además, el modelo exhibe una **sensibilidad** cercana al **95%**, lo que refleja su alta capacidad para identificar correctamente a los compradores potenciales. Por otro lado, el índice de **especificidad** es aproximadamente **74%**, midiendo la efectividad del modelo para clasificar correctamente a los jugadores que no efectuarán compras. Estos índices nos demuestran la capacidad del modelo para distinguir entre compradores y no compradores dentro de la aplicación.\n",
        "\n",
        "De acuerdo con los nuevos casos que agrupa la base de datos In_App_Pur_Socre, la probabilidad de que el primer jugador haga compras dentro de la aplicación es del **67%** y la probabilidad para el segundo jugador es del **0%.**\n",
        "\n",
        "\n",
        "Las reglas para los nodos puros son:\n",
        "\n",
        "- La regla para el nodo puro [5,0] es:\n",
        "SI Years<0.5 AND Age>23 AND Years <=1.5 AND Income>76.5\n",
        "\n",
        "- La regla para el nodo puro [28,0] es:\n",
        "SI Income>63.5 AND Years<=1.5 AND Years>0.5\n",
        "\n",
        "- La regla para el nodo puro [90,0] es:\n",
        "SI Income<=63.5\n",
        "\n",
        "\n",
        "Las reglas para los nuevos casos son:\n",
        "\n",
        "- Income>63.5 - Falso - 128\n",
        "- Years>1.5 - Falso - 3\n",
        "- Years<=0.5 - Verdadero\n",
        "- Income>76.5 - Falso\n"
      ],
      "metadata": {
        "id": "4CUyfj9Ktbp0"
      }
    }
  ]
}