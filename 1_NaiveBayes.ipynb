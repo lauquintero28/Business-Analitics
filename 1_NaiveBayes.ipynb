{
  "nbformat": 4,
  "nbformat_minor": 0,
  "metadata": {
    "colab": {
      "provenance": [],
      "include_colab_link": true
    },
    "kernelspec": {
      "name": "python3",
      "display_name": "Python 3"
    },
    "language_info": {
      "name": "python"
    }
  },
  "cells": [
    {
      "cell_type": "markdown",
      "metadata": {
        "id": "view-in-github",
        "colab_type": "text"
      },
      "source": [
        "<a href=\"https://colab.research.google.com/github/lauquintero28/Business-Analitics/blob/main/1_NaiveBayes.ipynb\" target=\"_parent\"><img src=\"https://colab.research.google.com/assets/colab-badge.svg\" alt=\"Open In Colab\"/></a>"
      ]
    },
    {
      "cell_type": "markdown",
      "source": [
        "#**Reto 1 Modelo Naive Bayes**"
      ],
      "metadata": {
        "id": "lnLHtvfprH4s"
      }
    },
    {
      "cell_type": "markdown",
      "source": [
        "##0. Cargar las librerías."
      ],
      "metadata": {
        "id": "R0msOkw0o868"
      }
    },
    {
      "cell_type": "code",
      "source": [
        "from google.colab import drive\n",
        "drive.mount('/content/drive')"
      ],
      "metadata": {
        "colab": {
          "base_uri": "https://localhost:8080/"
        },
        "id": "8vWXcVuTByrH",
        "outputId": "d3b718a7-d232-469a-c91d-1618f757ac4e"
      },
      "execution_count": null,
      "outputs": [
        {
          "output_type": "stream",
          "name": "stdout",
          "text": [
            "Mounted at /content/drive\n"
          ]
        }
      ]
    },
    {
      "cell_type": "code",
      "execution_count": null,
      "metadata": {
        "id": "90Z87xMAjgRg"
      },
      "outputs": [],
      "source": [
        "import numpy as np #Funciones matemáticas\n",
        "import pandas as pd #Conexión con Archivos de Excel\n",
        "\n",
        "from sklearn.naive_bayes import GaussianNB #Modelo Gaussian Naive Bayes\n",
        "from sklearn.metrics import confusion_matrix #Metricas - Como lo voy a evaluar"
      ]
    },
    {
      "cell_type": "markdown",
      "source": [
        "##1. Cargar la base de datos."
      ],
      "metadata": {
        "id": "TcQtfDpRo_p1"
      }
    },
    {
      "cell_type": "code",
      "source": [
        "nxl=\"/content/drive/MyDrive/EAFIT/TERCER SEMESTRE/Analítica de Negocios/1. BD2_CarCrash_Int.xlsx\"\n",
        "XDB=pd.read_excel(nxl,sheet_name=0)\n",
        "XDB.dropna() #Evitar celdas vacias Not at Number\n",
        "XDB.head()\n",
        "\n",
        "#Creamos el DataMart\n",
        "XD=XDB[[\"Weekday\",\"ViolCat\",\"ClearWeather\",\"Month\",\"Daylight\"]] #Variables Entrada\n",
        "yd=XDB[[\"Highway\"]] #Valor Deseado - Aprenda el Modelo"
      ],
      "metadata": {
        "id": "31EHdO7uEN97"
      },
      "execution_count": null,
      "outputs": []
    },
    {
      "cell_type": "markdown",
      "source": [
        "## 2. Se procede con la configuración y evaluación del modelo Naive Bayes (Highway)."
      ],
      "metadata": {
        "id": "x_qDQVRtvKU9"
      }
    },
    {
      "cell_type": "code",
      "source": [
        "mnb=GaussianNB()\n",
        "mnb.fit(XD,yd)\n",
        "\n",
        "#Analizamos los resultado arrojados por el modelo\n",
        "u=mnb.theta_  #Son las medias\n",
        "print(\"Las medias de las variables son: \\n\" ,u)\n",
        "\n",
        "sigma=np.sqrt(mnb.var_) #Desviación Estandar\n",
        "print(\"Los valores de las desviaciones son: \\n\" ,sigma)\n",
        "\n",
        "#Se procede con el análisis de las variaciones de las variables\n",
        "LS=u+sigma\n",
        "print(\"Los limites superiores para las variables son: \\n\",LS)\n",
        "LI=u-sigma\n",
        "print(\"Los limites inferiores para las variables  son: \\n\",LI)\n",
        "\n",
        "#Se procede con la evaluación del modelo\n",
        "ydp=mnb.predict(XD)\n",
        "\n",
        "#Se procede con la evaluación del comportamiento del modelo\n",
        "cm=confusion_matrix(yd,ydp)\n",
        "print(\"La matriz de confusión es: \\n\",cm)\n",
        "VN=cm[0,0];FP=cm[0,1];FN=cm[1,0];VP=cm[1,1]\n",
        "\n",
        "Ex=(VP+VN)/len(XD)\n",
        "print(\"La Exactitud del modelo es:\",Ex)\n",
        "\n",
        "Ter=(FP+FN)/len(XD)\n",
        "print(\"La Tasa de error del modelo es:\",Ter)\n",
        "\n",
        "Sen=VP/(VP+FN)\n",
        "print(\"La sensibilidad del modelo es:\",Sen)\n",
        "\n",
        "Esp=VN/(VN+FP)\n",
        "print(\"La especificidad del modelo es:\",Esp)\n",
        "\n",
        "Pres=VP/(VP+FP)# precisión\n",
        "print(\"La precisión del modelo es:\",Pres)\n",
        "\n",
        "PredNeg=VN/(VN+FN) #Predicción del negativo\n",
        "print(\"La predicción Negativo del modelo es:\",PredNeg)\n",
        "\n",
        "#Para evaluar a la persona si tendrá o no un accidente\n",
        "Persona=[[7,1,1,3,0]]\n",
        "Evaluar=mnb.predict(Persona)\n",
        "print(\"La persona tendrá un accidente:\",Evaluar) #Si el modelo arroja '1' significa que 'SI' tendrá un accidente, si es '0' significa que 'NO' tendrá un accidente."
      ],
      "metadata": {
        "colab": {
          "base_uri": "https://localhost:8080/"
        },
        "id": "8KtEturHCzd5",
        "outputId": "21c94b61-2620-4b30-dc2b-053b865347d8"
      },
      "execution_count": null,
      "outputs": [
        {
          "output_type": "stream",
          "name": "stdout",
          "text": [
            "Las medias de las variables son: \n",
            " [[3.88945752 6.7778915  0.85261003 5.52548618 0.6814739 ]\n",
            " [3.82417582 4.31538462 0.79450549 5.47417582 0.70934066]]\n",
            "Los valores de las desviaciones son: \n",
            " [[1.92831125 3.63475806 0.35449426 3.27379337 0.46590475]\n",
            " [1.82800803 2.36793707 0.40406253 3.26215279 0.45406663]]\n",
            "Los limites superiores para las variables son: \n",
            " [[ 5.81776877 10.41264957  1.20710429  8.79927955  1.14737865]\n",
            " [ 5.65218385  6.68332168  1.19856802  8.73632861  1.16340729]]\n",
            "Los limites inferiores para las variables  son: \n",
            " [[1.96114628 3.14313344 0.49811577 2.25169281 0.21556915]\n",
            " [1.9961678  1.94744755 0.39044297 2.21202304 0.25527403]]\n",
            "La matriz de confusión es: \n",
            " [[4560  325]\n",
            " [1563  257]]\n",
            "La Exactitud del modelo es: 0.7184190902311708\n",
            "La Tasa de error del modelo es: 0.2815809097688292\n",
            "La sensibilidad del modelo es: 0.1412087912087912\n",
            "La especificidad del modelo es: 0.9334698055271239\n",
            "La precisión del modelo es: 0.4415807560137457\n",
            "La predicción Negativo del modelo es: 0.7447329740323371\n",
            "La persona sufrirá un accidente: [0]\n"
          ]
        },
        {
          "output_type": "stream",
          "name": "stderr",
          "text": [
            "/usr/local/lib/python3.10/dist-packages/sklearn/utils/validation.py:1183: DataConversionWarning: A column-vector y was passed when a 1d array was expected. Please change the shape of y to (n_samples, ), for example using ravel().\n",
            "  y = column_or_1d(y, warn=True)\n",
            "/usr/local/lib/python3.10/dist-packages/sklearn/base.py:465: UserWarning: X does not have valid feature names, but GaussianNB was fitted with feature names\n",
            "  warnings.warn(\n"
          ]
        }
      ]
    },
    {
      "cell_type": "markdown",
      "source": [
        "##3. Se procede con la estimación de la predicción de la accidentalidad en autopista."
      ],
      "metadata": {
        "id": "uOHjtHDi8y54"
      }
    },
    {
      "cell_type": "code",
      "source": [
        "XDBn=pd.read_excel(nxl,sheet_name=0)\n",
        "XDBn.head(100)\n",
        "\n",
        "#Creamos el DataMart\n",
        "XDn=XDBn[['Weekday','ViolCat','ClearWeather','Month','Daylight']] #Variables Entrada\n",
        "ydn=XDBn[['Highway']] #Valor Deseado - Aprenda el Modelo\n",
        "\n",
        "#Hacer el pronóstico para todos los XDBs disponibles\n",
        "ydpn=mnb.predict(XDn) #Hizo el pronóstico de la Preaprobación para los solicitantes\n",
        "\n",
        "#Se procede con la creación del informe\n",
        "XDsal=np.column_stack((XDn,ydpn,ydn)) #Para mostrar columnas juntas\n",
        "df_sal=pd.DataFrame(XDsal)            #Se crea una tabla virtual\n",
        "df_sal.to_excel('Informe.xlsx')       #Se exporta a Excel"
      ],
      "metadata": {
        "id": "NN2QrPWK8_9K"
      },
      "execution_count": null,
      "outputs": []
    },
    {
      "cell_type": "markdown",
      "source": [
        "#**Análisis de Resultados**\n",
        "\n",
        "Los resultados arrojados por el modelo propuesto frente al pronóstico de Highway mostraron:\n",
        "\n",
        "El modelo alcanzo una **Exactitud** del **72%** esto nos indica un buen desempeño en general, sin embargo, la alta tasa de error **28%** y la baja sensibilidad sugieren que el modelo podría tener problemas para detectar correctamente los casos positivos.\n",
        "\n",
        "El modelo alcanzó una **Precisión** del **44%** esto nos indica que de todas las veces que el modelo predijo un accidente, el **44%** de las predicciones fueron correctas. Es decir, el modelo se equivoca en aproximadamente el **56%** de los casos en los que predice que ocurrirá un accidente.\n",
        "\n",
        "El modelo alcanzó una **Sensibilidad** del **14%** esto nos indica que el modelo detecta correctamente solo el **14%** de los verdaderos casos de accidentes. Es decir, el modelo tiene dificultades para identificar la mayoría de los accidentes reales.\n",
        "\n",
        "El modelo alcanzó una **Especificidad** del **93%** esto nos indica que el modelo identifica correctamente el **93%** de los casos en los que no ocurre un accidente. Es decir, el modelo es bastante bueno para predecir la ausencia de accidentes.\n",
        "\n",
        "Es importante tener en cuenta que el modelo arroja un informe de resultados en donde se evalua la accidentalidad y se precide si un accidente automovilístico se provocó en una autopista o no. Como información adicional la base de datos posee un total de **6123** no accidentados, y un total de **582** accidentados."
      ],
      "metadata": {
        "id": "0mL_6suXskvt"
      }
    }
  ]
}